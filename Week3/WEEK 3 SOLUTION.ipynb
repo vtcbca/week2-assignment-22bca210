{
 "cells": [
  {
   "cell_type": "code",
   "execution_count": 20,
   "id": "b624b222",
   "metadata": {},
   "outputs": [],
   "source": [
    "import sqlite3 as sq"
   ]
  },
  {
   "cell_type": "code",
   "execution_count": 21,
   "id": "d3dcddd9",
   "metadata": {},
   "outputs": [],
   "source": [
    "con = sq.connect('ESM.db')"
   ]
  },
  {
   "cell_type": "code",
   "execution_count": 22,
   "id": "034d4853",
   "metadata": {},
   "outputs": [],
   "source": [
    "cur = con.cursor()"
   ]
  },
  {
   "cell_type": "markdown",
   "id": "44955bfa",
   "metadata": {},
   "source": [
    "1.Create Table Employee."
   ]
  },
  {
   "cell_type": "code",
   "execution_count": 23,
   "id": "c4ba7afa",
   "metadata": {},
   "outputs": [],
   "source": [
    "q='''create table if not exists employee(eid int primary key,ename text,dept text,basic int,branch text)'''"
   ]
  },
  {
   "cell_type": "code",
   "execution_count": 24,
   "id": "6b8b2ca9",
   "metadata": {},
   "outputs": [
    {
     "data": {
      "text/plain": [
       "<sqlite3.Cursor at 0x1ee3e95acc0>"
      ]
     },
     "execution_count": 24,
     "metadata": {},
     "output_type": "execute_result"
    }
   ],
   "source": [
    "cur.execute(q)"
   ]
  },
  {
   "cell_type": "code",
   "execution_count": 25,
   "id": "2712d451",
   "metadata": {},
   "outputs": [],
   "source": [
    "con.commit()"
   ]
  },
  {
   "cell_type": "markdown",
   "id": "d7ba6046",
   "metadata": {},
   "source": [
    "2.Insert 5 Record Directly."
   ]
  },
  {
   "cell_type": "code",
   "execution_count": 26,
   "id": "835b9a1c",
   "metadata": {},
   "outputs": [],
   "source": [
    "i='''insert into employee values(1,'om','Account',10000,'surat'),\n",
    "                                (2,'sai','Inventory',6000,'mumbai'),\n",
    "                                (3,'ram','HR',7000,'baroda'),\n",
    "                                (4,'radha','IT',9000,'pune'),\n",
    "                                (5,'kishan','HR',5000,'bardoli')'''"
   ]
  },
  {
   "cell_type": "markdown",
   "id": "a32dc78b",
   "metadata": {},
   "source": [
    " Insert 5 Record Using Tuple"
   ]
  },
  {
   "cell_type": "code",
   "execution_count": 27,
   "id": "9460e17a",
   "metadata": {},
   "outputs": [],
   "source": [
    "i1=[(6,'varun','Account',10000,'delhi'),\n",
    "    (7,'krishna','IT',4500,'chennai'),\n",
    "    (8,'jay','HR',9000,'surat'),\n",
    "    (9,'bheem','Inventory',5600,'vyara'),\n",
    "    (10,'nakul','HR',9500,'bardoli')]"
   ]
  },
  {
   "cell_type": "markdown",
   "id": "542fc105",
   "metadata": {},
   "source": [
    " Insert 5 Record Taking Input From User"
   ]
  },
  {
   "cell_type": "code",
   "execution_count": 28,
   "id": "52593de7",
   "metadata": {},
   "outputs": [],
   "source": [
    "i2=\"insert into employee values(?,?,?,?,?)\""
   ]
  },
  {
   "cell_type": "code",
   "execution_count": 29,
   "id": "7f44e0a1",
   "metadata": {},
   "outputs": [],
   "source": [
    "L=[]"
   ]
  },
  {
   "cell_type": "code",
   "execution_count": 30,
   "id": "088f85e4",
   "metadata": {},
   "outputs": [
    {
     "name": "stdout",
     "output_type": "stream",
     "text": [
      "Enter emp id:11\n",
      "Enter emp name:vasu\n",
      "Enter emp department:Account\n",
      "Enter emp basic:11000\n",
      "Enter emp branch:delhi\n",
      "Enter emp id:12\n",
      "Enter emp name:shankar\n",
      "Enter emp department:HR\n",
      "Enter emp basic:7000\n",
      "Enter emp branch:nagpur\n",
      "Enter emp id:13\n",
      "Enter emp name:dev\n",
      "Enter emp department:IT\n",
      "Enter emp basic:15000\n",
      "Enter emp branch:vyara\n",
      "Enter emp id:14\n",
      "Enter emp name:rudra\n",
      "Enter emp department:Inventory\n",
      "Enter emp basic:5000\n",
      "Enter emp branch:bardoli\n",
      "Enter emp id:15\n",
      "Enter emp name:shiv\n",
      "Enter emp department:HR\n",
      "Enter emp basic:6000\n",
      "Enter emp branch:navsari\n"
     ]
    }
   ],
   "source": [
    "for x in range(5):\n",
    "    no=int(input(\"Enter emp id:\"))\n",
    "    name=input(\"Enter emp name:\")\n",
    "    dept=input(\"Enter emp department:\")\n",
    "    basic=int(input(\"Enter emp basic:\"))\n",
    "    branch=input(\"Enter emp branch:\")\n",
    "    T=(no,name,dept,basic,branch)\n",
    "    L.append(T)"
   ]
  },
  {
   "cell_type": "code",
   "execution_count": 31,
   "id": "65b60fcf",
   "metadata": {},
   "outputs": [
    {
     "data": {
      "text/plain": [
       "<sqlite3.Cursor at 0x1ee3e95acc0>"
      ]
     },
     "execution_count": 31,
     "metadata": {},
     "output_type": "execute_result"
    }
   ],
   "source": [
    "cur.executemany(i2,L)"
   ]
  },
  {
   "cell_type": "code",
   "execution_count": 32,
   "id": "486446f5",
   "metadata": {},
   "outputs": [],
   "source": [
    "con.commit()"
   ]
  },
  {
   "cell_type": "markdown",
   "id": "03426001",
   "metadata": {},
   "source": [
    "3.Update Records Who are From \"Surat\" Branch With Increament In Salary 10%. "
   ]
  },
  {
   "cell_type": "code",
   "execution_count": 33,
   "id": "7e742fd4",
   "metadata": {},
   "outputs": [],
   "source": [
    "U=\"update employee set basic=basic+(basic*10)/100 where branch='surat'\""
   ]
  },
  {
   "cell_type": "code",
   "execution_count": 35,
   "id": "3f68f97f",
   "metadata": {},
   "outputs": [
    {
     "data": {
      "text/plain": [
       "<sqlite3.Cursor at 0x1ee3e95acc0>"
      ]
     },
     "execution_count": 35,
     "metadata": {},
     "output_type": "execute_result"
    }
   ],
   "source": [
    "cur.execute(U)"
   ]
  },
  {
   "cell_type": "code",
   "execution_count": 36,
   "id": "e7e4b007",
   "metadata": {},
   "outputs": [],
   "source": [
    "con.commit()"
   ]
  },
  {
   "cell_type": "markdown",
   "id": "57f04e87",
   "metadata": {},
   "source": [
    "4.Print All Records."
   ]
  },
  {
   "cell_type": "code",
   "execution_count": 37,
   "id": "ad43ea50",
   "metadata": {},
   "outputs": [],
   "source": [
    "S=\"select * from employee\""
   ]
  },
  {
   "cell_type": "code",
   "execution_count": 38,
   "id": "dfb04a84",
   "metadata": {},
   "outputs": [
    {
     "data": {
      "text/plain": [
       "<sqlite3.Cursor at 0x1ee3e95acc0>"
      ]
     },
     "execution_count": 38,
     "metadata": {},
     "output_type": "execute_result"
    }
   ],
   "source": [
    "cur.execute(S)"
   ]
  },
  {
   "cell_type": "code",
   "execution_count": 39,
   "id": "d1995714",
   "metadata": {},
   "outputs": [],
   "source": [
    "R=cur.fetchall()"
   ]
  },
  {
   "cell_type": "code",
   "execution_count": 42,
   "id": "d2dcd6a2",
   "metadata": {},
   "outputs": [
    {
     "name": "stdout",
     "output_type": "stream",
     "text": [
      "emp id: 11\n",
      "emp name: vasu\n",
      "emp dept: Account\n",
      "emp basic: 11000\n",
      "emp branch: delhi\n",
      "emp id: 12\n",
      "emp name: shankar\n",
      "emp dept: HR\n",
      "emp basic: 7000\n",
      "emp branch: nagpur\n",
      "emp id: 13\n",
      "emp name: dev\n",
      "emp dept: IT\n",
      "emp basic: 15000\n",
      "emp branch: vyara\n",
      "emp id: 14\n",
      "emp name: rudra\n",
      "emp dept: Inventory\n",
      "emp basic: 5000\n",
      "emp branch: bardoli\n",
      "emp id: 15\n",
      "emp name: shiv\n",
      "emp dept: HR\n",
      "emp basic: 6000\n",
      "emp branch: navsari\n"
     ]
    }
   ],
   "source": [
    "for y in range(len(R)):\n",
    "    print(\"emp id:\",(R[y][0]))\n",
    "    print(\"emp name:\",(R[y][1]))\n",
    "    print(\"emp dept:\",(R[y][2]))\n",
    "    print(\"emp basic:\",(R[y][3]))\n",
    "    print(\"emp branch:\",(R[y][4]))"
   ]
  },
  {
   "cell_type": "markdown",
   "id": "02ff3fc4",
   "metadata": {},
   "source": [
    "5.Print Records Where Dept Is \"HR\" And \"IT\"."
   ]
  },
  {
   "cell_type": "code",
   "execution_count": 43,
   "id": "633f4112",
   "metadata": {},
   "outputs": [],
   "source": [
    "Z=\"select * from employee where dept in('HR','IT')\""
   ]
  },
  {
   "cell_type": "code",
   "execution_count": 44,
   "id": "5df33fcc",
   "metadata": {},
   "outputs": [
    {
     "data": {
      "text/plain": [
       "<sqlite3.Cursor at 0x1ee3e95acc0>"
      ]
     },
     "execution_count": 44,
     "metadata": {},
     "output_type": "execute_result"
    }
   ],
   "source": [
    "cur.execute(Z)"
   ]
  },
  {
   "cell_type": "code",
   "execution_count": 45,
   "id": "121a9911",
   "metadata": {},
   "outputs": [],
   "source": [
    "R=cur.fetchall()"
   ]
  },
  {
   "cell_type": "code",
   "execution_count": 46,
   "id": "f64e256c",
   "metadata": {},
   "outputs": [
    {
     "name": "stdout",
     "output_type": "stream",
     "text": [
      "emp id: 12\n",
      "emp name: shankar\n",
      "emp dept: HR\n",
      "emp basic: 7000\n",
      "emp branch: nagpur\n",
      "emp id: 13\n",
      "emp name: dev\n",
      "emp dept: IT\n",
      "emp basic: 15000\n",
      "emp branch: vyara\n",
      "emp id: 15\n",
      "emp name: shiv\n",
      "emp dept: HR\n",
      "emp basic: 6000\n",
      "emp branch: navsari\n"
     ]
    }
   ],
   "source": [
    "for y in range(len(R)):\n",
    "    print(\"emp id:\",(R[y][0]))\n",
    "    print(\"emp name:\",(R[y][1]))\n",
    "    print(\"emp dept:\",(R[y][2]))\n",
    "    print(\"emp basic:\",(R[y][3]))\n",
    "    print(\"emp branch:\",(R[y][4]))"
   ]
  },
  {
   "cell_type": "markdown",
   "id": "5226a9cb",
   "metadata": {},
   "source": [
    "6.Print Records In Sorting Order Of Department."
   ]
  },
  {
   "cell_type": "code",
   "execution_count": 53,
   "id": "ca0321cb",
   "metadata": {},
   "outputs": [],
   "source": [
    "B=\"select * from employee order by dept\""
   ]
  },
  {
   "cell_type": "code",
   "execution_count": 61,
   "id": "c42ec6f7",
   "metadata": {},
   "outputs": [
    {
     "data": {
      "text/plain": [
       "<sqlite3.Cursor at 0x1ee3e95acc0>"
      ]
     },
     "execution_count": 61,
     "metadata": {},
     "output_type": "execute_result"
    }
   ],
   "source": [
    "cur.execute(B)"
   ]
  },
  {
   "cell_type": "code",
   "execution_count": 62,
   "id": "69b36dda",
   "metadata": {},
   "outputs": [],
   "source": [
    "R=cur.fetchall()"
   ]
  },
  {
   "cell_type": "code",
   "execution_count": 63,
   "id": "0d9691e0",
   "metadata": {},
   "outputs": [
    {
     "name": "stdout",
     "output_type": "stream",
     "text": [
      "emp id: 11\n",
      "emp name: vasu\n",
      "emp dept: Account\n",
      "emp basic: 11000\n",
      "emp branch: delhi\n",
      "emp id: 12\n",
      "emp name: shankar\n",
      "emp dept: HR\n",
      "emp basic: 7000\n",
      "emp branch: nagpur\n",
      "emp id: 15\n",
      "emp name: shiv\n",
      "emp dept: HR\n",
      "emp basic: 6000\n",
      "emp branch: navsari\n",
      "emp id: 13\n",
      "emp name: dev\n",
      "emp dept: IT\n",
      "emp basic: 15000\n",
      "emp branch: vyara\n",
      "emp id: 14\n",
      "emp name: rudra\n",
      "emp dept: Inventory\n",
      "emp basic: 5000\n",
      "emp branch: bardoli\n"
     ]
    }
   ],
   "source": [
    "for y in range(len(R)):\n",
    "    print(\"emp id:\",(R[y][0]))\n",
    "    print(\"emp name:\",(R[y][1]))\n",
    "    print(\"emp dept:\",(R[y][2]))\n",
    "    print(\"emp basic:\",(R[y][3]))\n",
    "    print(\"emp branch:\",(R[y][4]))"
   ]
  },
  {
   "cell_type": "markdown",
   "id": "86bd89c1",
   "metadata": {},
   "source": [
    "7. Print records where basic is >6000."
   ]
  },
  {
   "cell_type": "code",
   "execution_count": 64,
   "id": "46b6c136",
   "metadata": {},
   "outputs": [],
   "source": [
    "B=\"select * from employee where basic>6000\""
   ]
  },
  {
   "cell_type": "code",
   "execution_count": 65,
   "id": "99a039b9",
   "metadata": {},
   "outputs": [
    {
     "data": {
      "text/plain": [
       "<sqlite3.Cursor at 0x1ee3e95acc0>"
      ]
     },
     "execution_count": 65,
     "metadata": {},
     "output_type": "execute_result"
    }
   ],
   "source": [
    "cur.execute(B)"
   ]
  },
  {
   "cell_type": "code",
   "execution_count": 66,
   "id": "3c22513d",
   "metadata": {},
   "outputs": [],
   "source": [
    "R=cur.fetchall()"
   ]
  },
  {
   "cell_type": "code",
   "execution_count": 67,
   "id": "37bdb479",
   "metadata": {},
   "outputs": [
    {
     "name": "stdout",
     "output_type": "stream",
     "text": [
      "emp id: 11\n",
      "emp name: vasu\n",
      "emp dept: Account\n",
      "emp basic: 11000\n",
      "emp branch: delhi\n",
      "emp id: 12\n",
      "emp name: shankar\n",
      "emp dept: HR\n",
      "emp basic: 7000\n",
      "emp branch: nagpur\n",
      "emp id: 13\n",
      "emp name: dev\n",
      "emp dept: IT\n",
      "emp basic: 15000\n",
      "emp branch: vyara\n"
     ]
    }
   ],
   "source": [
    "for y in range(len(R)):\n",
    "    print(\"emp id:\",(R[y][0]))\n",
    "    print(\"emp name:\",(R[y][1]))\n",
    "    print(\"emp dept:\",(R[y][2]))\n",
    "    print(\"emp basic:\",(R[y][3]))\n",
    "    print(\"emp branch:\",(R[y][4]))"
   ]
  },
  {
   "cell_type": "markdown",
   "id": "27a499a6",
   "metadata": {},
   "source": [
    "8. Print records whrere employee name second character is \"r\"."
   ]
  },
  {
   "cell_type": "code",
   "execution_count": 68,
   "id": "5cf99fc5",
   "metadata": {},
   "outputs": [],
   "source": [
    "v=\"select * from employee where ename like'_r%'\""
   ]
  },
  {
   "cell_type": "code",
   "execution_count": 69,
   "id": "77799e99",
   "metadata": {},
   "outputs": [
    {
     "data": {
      "text/plain": [
       "<sqlite3.Cursor at 0x1ee3e95acc0>"
      ]
     },
     "execution_count": 69,
     "metadata": {},
     "output_type": "execute_result"
    }
   ],
   "source": [
    "cur.execute(v)"
   ]
  },
  {
   "cell_type": "code",
   "execution_count": 70,
   "id": "9778ae70",
   "metadata": {},
   "outputs": [],
   "source": [
    "R=cur.fetchall()"
   ]
  },
  {
   "cell_type": "code",
   "execution_count": 71,
   "id": "a46c7924",
   "metadata": {},
   "outputs": [],
   "source": [
    "for y in range(len(R)):\n",
    "    print(\"emp id:\",(R[y][0]))\n",
    "    print(\"emp name:\",(R[y][1]))\n",
    "    print(\"emp dept:\",(R[y][2]))\n",
    "    print(\"emp basic:\",(R[y][3]))\n",
    "    print(\"emp branch:\",(R[y][4]))"
   ]
  },
  {
   "cell_type": "markdown",
   "id": "cce28202",
   "metadata": {},
   "source": [
    "9. Grouping record of employee who are from \"Account\" and \"Inventory\".\n"
   ]
  },
  {
   "cell_type": "code",
   "execution_count": 74,
   "id": "501ab9e3",
   "metadata": {},
   "outputs": [],
   "source": [
    "c=\"select * from employee where dept in('Account','Inventory') group by dept\""
   ]
  },
  {
   "cell_type": "code",
   "execution_count": 75,
   "id": "84859e9c",
   "metadata": {},
   "outputs": [
    {
     "data": {
      "text/plain": [
       "<sqlite3.Cursor at 0x1ee3e95acc0>"
      ]
     },
     "execution_count": 75,
     "metadata": {},
     "output_type": "execute_result"
    }
   ],
   "source": [
    "cur.execute(c)"
   ]
  },
  {
   "cell_type": "code",
   "execution_count": 76,
   "id": "0311d6c5",
   "metadata": {},
   "outputs": [],
   "source": [
    "R=cur.fetchall()"
   ]
  },
  {
   "cell_type": "code",
   "execution_count": 77,
   "id": "7f49d184",
   "metadata": {},
   "outputs": [
    {
     "name": "stdout",
     "output_type": "stream",
     "text": [
      "emp id: 11\n",
      "emp name: vasu\n",
      "emp dept: Account\n",
      "emp basic: 11000\n",
      "emp branch: delhi\n",
      "emp id: 14\n",
      "emp name: rudra\n",
      "emp dept: Inventory\n",
      "emp basic: 5000\n",
      "emp branch: bardoli\n"
     ]
    }
   ],
   "source": [
    "for y in range(len(R)):\n",
    "    print(\"emp id:\",(R[y][0]))\n",
    "    print(\"emp name:\",(R[y][1]))\n",
    "    print(\"emp dept:\",(R[y][2]))\n",
    "    print(\"emp basic:\",(R[y][3]))\n",
    "    print(\"emp branch:\",(R[y][4]))"
   ]
  },
  {
   "cell_type": "markdown",
   "id": "b5311921",
   "metadata": {},
   "source": [
    "\n",
    "10. Print all records based on branch name in descending order."
   ]
  },
  {
   "cell_type": "code",
   "execution_count": 78,
   "id": "ea331cbe",
   "metadata": {},
   "outputs": [],
   "source": [
    "m=\"select * from employee order by dept desc\""
   ]
  },
  {
   "cell_type": "code",
   "execution_count": 79,
   "id": "48ddaa3f",
   "metadata": {},
   "outputs": [
    {
     "data": {
      "text/plain": [
       "<sqlite3.Cursor at 0x1ee3e95acc0>"
      ]
     },
     "execution_count": 79,
     "metadata": {},
     "output_type": "execute_result"
    }
   ],
   "source": [
    "cur.execute(m)"
   ]
  },
  {
   "cell_type": "code",
   "execution_count": 80,
   "id": "182d7bc4",
   "metadata": {},
   "outputs": [],
   "source": [
    "R=cur.fetchall()"
   ]
  },
  {
   "cell_type": "code",
   "execution_count": 81,
   "id": "c6581b56",
   "metadata": {},
   "outputs": [
    {
     "name": "stdout",
     "output_type": "stream",
     "text": [
      "emp id: 14\n",
      "emp name: rudra\n",
      "emp dept: Inventory\n",
      "emp basic: 5000\n",
      "emp branch: bardoli\n",
      "emp id: 13\n",
      "emp name: dev\n",
      "emp dept: IT\n",
      "emp basic: 15000\n",
      "emp branch: vyara\n",
      "emp id: 12\n",
      "emp name: shankar\n",
      "emp dept: HR\n",
      "emp basic: 7000\n",
      "emp branch: nagpur\n",
      "emp id: 15\n",
      "emp name: shiv\n",
      "emp dept: HR\n",
      "emp basic: 6000\n",
      "emp branch: navsari\n",
      "emp id: 11\n",
      "emp name: vasu\n",
      "emp dept: Account\n",
      "emp basic: 11000\n",
      "emp branch: delhi\n"
     ]
    }
   ],
   "source": [
    "for y in range(len(R)):\n",
    "    print(\"emp id:\",(R[y][0]))\n",
    "    print(\"emp name:\",(R[y][1]))\n",
    "    print(\"emp dept:\",(R[y][2]))\n",
    "    print(\"emp basic:\",(R[y][3]))\n",
    "    print(\"emp branch:\",(R[y][4]))"
   ]
  },
  {
   "cell_type": "code",
   "execution_count": 82,
   "id": "b5d2ae75",
   "metadata": {},
   "outputs": [],
   "source": [
    "con.commit()"
   ]
  },
  {
   "cell_type": "code",
   "execution_count": 83,
   "id": "19113a16",
   "metadata": {},
   "outputs": [],
   "source": [
    "con.close()"
   ]
  }
 ],
 "metadata": {
  "kernelspec": {
   "display_name": "Python 3 (ipykernel)",
   "language": "python",
   "name": "python3"
  },
  "language_info": {
   "codemirror_mode": {
    "name": "ipython",
    "version": 3
   },
   "file_extension": ".py",
   "mimetype": "text/x-python",
   "name": "python",
   "nbconvert_exporter": "python",
   "pygments_lexer": "ipython3",
   "version": "3.10.8"
  }
 },
 "nbformat": 4,
 "nbformat_minor": 5
}
