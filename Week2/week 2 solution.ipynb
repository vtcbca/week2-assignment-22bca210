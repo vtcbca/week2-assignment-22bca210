{
 "cells": [
  {
   "cell_type": "code",
   "execution_count": 1,
   "id": "343d16d8",
   "metadata": {},
   "outputs": [],
   "source": [
    "import sqlite3 as sq"
   ]
  },
  {
   "cell_type": "code",
   "execution_count": 2,
   "id": "df7f5516",
   "metadata": {},
   "outputs": [],
   "source": [
    "con=sq.connect('stud.db')"
   ]
  },
  {
   "cell_type": "code",
   "execution_count": 3,
   "id": "0c725f39",
   "metadata": {},
   "outputs": [],
   "source": [
    "cur=con.cursor()"
   ]
  },
  {
   "cell_type": "code",
   "execution_count": 4,
   "id": "34d743bf",
   "metadata": {},
   "outputs": [],
   "source": [
    "q1='create table stud(id int primary key,name text)'"
   ]
  },
  {
   "cell_type": "code",
   "execution_count": 5,
   "id": "940427a6",
   "metadata": {},
   "outputs": [
    {
     "data": {
      "text/plain": [
       "<sqlite3.Cursor at 0x1cd29a13ac0>"
      ]
     },
     "execution_count": 5,
     "metadata": {},
     "output_type": "execute_result"
    }
   ],
   "source": [
    "cur.execute(q1)"
   ]
  },
  {
   "cell_type": "code",
   "execution_count": 6,
   "id": "84128f5f",
   "metadata": {},
   "outputs": [],
   "source": [
    "q2='create table stud_details(id references stud(id),city text,mobileno int)'"
   ]
  },
  {
   "cell_type": "code",
   "execution_count": 7,
   "id": "62d72865",
   "metadata": {},
   "outputs": [
    {
     "data": {
      "text/plain": [
       "<sqlite3.Cursor at 0x1cd29a13ac0>"
      ]
     },
     "execution_count": 7,
     "metadata": {},
     "output_type": "execute_result"
    }
   ],
   "source": [
    "cur.execute(q2)"
   ]
  },
  {
   "cell_type": "code",
   "execution_count": 8,
   "id": "a063576b",
   "metadata": {},
   "outputs": [],
   "source": [
    "con.commit()"
   ]
  },
  {
   "cell_type": "markdown",
   "id": "7a5a6f54",
   "metadata": {},
   "source": [
    "2.insert into atleast 10 recordes for each table."
   ]
  },
  {
   "cell_type": "code",
   "execution_count": 10,
   "id": "3e650546",
   "metadata": {},
   "outputs": [],
   "source": [
    "I1=\"insert into stud values(1,'om'),(2,'sai'),(3,'ram'),(4,'radha'),(5,'kishan'),(6,'shiv'),(7,'hanuman'),(8,'laxman'),(9,'ganesh'),(10,'balram')\""
   ]
  },
  {
   "cell_type": "code",
   "execution_count": 11,
   "id": "96fa5e5a",
   "metadata": {},
   "outputs": [
    {
     "data": {
      "text/plain": [
       "<sqlite3.Cursor at 0x1cd29a13ac0>"
      ]
     },
     "execution_count": 11,
     "metadata": {},
     "output_type": "execute_result"
    }
   ],
   "source": [
    "cur.execute(I1)"
   ]
  },
  {
   "cell_type": "code",
   "execution_count": 15,
   "id": "35f88b8c",
   "metadata": {},
   "outputs": [],
   "source": [
    "I2=\"insert into stud_details values(1,'surat',1122334455),(2,'bardoli',2967884430),(3,'mumbai',8980076400),(4,'vadodra',9574908765),(5,'pune',7834567890),(6,'bihar',2345678901),(7,'kedarnath',2131415161),(8,'badrinath',4530816234),(9,'vrundavan',9080706099),(10,'bardoli',9989778980)\""
   ]
  },
  {
   "cell_type": "code",
   "execution_count": 16,
   "id": "4328c495",
   "metadata": {},
   "outputs": [
    {
     "data": {
      "text/plain": [
       "<sqlite3.Cursor at 0x1cd29a13ac0>"
      ]
     },
     "execution_count": 16,
     "metadata": {},
     "output_type": "execute_result"
    }
   ],
   "source": [
    "cur.execute(I2)"
   ]
  },
  {
   "cell_type": "code",
   "execution_count": 17,
   "id": "46bb2317",
   "metadata": {},
   "outputs": [],
   "source": [
    "con.commit()"
   ]
  },
  {
   "cell_type": "markdown",
   "id": "5d7fa0eb",
   "metadata": {},
   "source": [
    "3.diplay whose student come from the surat city."
   ]
  },
  {
   "cell_type": "code",
   "execution_count": 18,
   "id": "962badf2",
   "metadata": {},
   "outputs": [],
   "source": [
    "query3=\"select * from stud_details where city='surat' \""
   ]
  },
  {
   "cell_type": "code",
   "execution_count": 19,
   "id": "87a038dc",
   "metadata": {},
   "outputs": [
    {
     "data": {
      "text/plain": [
       "<sqlite3.Cursor at 0x1cd29a13ac0>"
      ]
     },
     "execution_count": 19,
     "metadata": {},
     "output_type": "execute_result"
    }
   ],
   "source": [
    "cur.execute(query3)"
   ]
  },
  {
   "cell_type": "code",
   "execution_count": 20,
   "id": "ecc4dd96",
   "metadata": {},
   "outputs": [
    {
     "data": {
      "text/plain": [
       "[(1, 'surat', 1122334455)]"
      ]
     },
     "execution_count": 20,
     "metadata": {},
     "output_type": "execute_result"
    }
   ],
   "source": [
    "cur.fetchall()"
   ]
  },
  {
   "cell_type": "code",
   "execution_count": 21,
   "id": "a033e4c0",
   "metadata": {},
   "outputs": [],
   "source": [
    "con.commit()"
   ]
  },
  {
   "cell_type": "markdown",
   "id": "fc74f3e6",
   "metadata": {},
   "source": [
    "4.display student details whose city name start with b."
   ]
  },
  {
   "cell_type": "code",
   "execution_count": 22,
   "id": "9c8bec57",
   "metadata": {},
   "outputs": [],
   "source": [
    "query4=\"select * from stud_details where city LIKE 'b%' \""
   ]
  },
  {
   "cell_type": "code",
   "execution_count": 23,
   "id": "e9f4bd77",
   "metadata": {},
   "outputs": [
    {
     "data": {
      "text/plain": [
       "<sqlite3.Cursor at 0x1cd29a13ac0>"
      ]
     },
     "execution_count": 23,
     "metadata": {},
     "output_type": "execute_result"
    }
   ],
   "source": [
    "cur.execute(query4)"
   ]
  },
  {
   "cell_type": "code",
   "execution_count": 24,
   "id": "f0c57d80",
   "metadata": {},
   "outputs": [
    {
     "data": {
      "text/plain": [
       "[(2, 'bardoli', 2967884430),\n",
       " (6, 'bihar', 2345678901),\n",
       " (8, 'badrinath', 4530816234),\n",
       " (10, 'bardoli', 9989778980)]"
      ]
     },
     "execution_count": 24,
     "metadata": {},
     "output_type": "execute_result"
    }
   ],
   "source": [
    "cur.fetchall()"
   ]
  },
  {
   "cell_type": "code",
   "execution_count": 25,
   "id": "83811c94",
   "metadata": {},
   "outputs": [],
   "source": [
    "con.commit()"
   ]
  },
  {
   "cell_type": "markdown",
   "id": "bc0a6ed1",
   "metadata": {},
   "source": [
    "5.update mobile who are coming from 'surat'."
   ]
  },
  {
   "cell_type": "code",
   "execution_count": 26,
   "id": "be2d8e82",
   "metadata": {},
   "outputs": [],
   "source": [
    "query5=\"update stud_details set mobileno=9574880099 where city='surat' \""
   ]
  },
  {
   "cell_type": "code",
   "execution_count": 27,
   "id": "ace59cef",
   "metadata": {},
   "outputs": [
    {
     "data": {
      "text/plain": [
       "<sqlite3.Cursor at 0x1cd29a13ac0>"
      ]
     },
     "execution_count": 27,
     "metadata": {},
     "output_type": "execute_result"
    }
   ],
   "source": [
    "cur.execute(query5)"
   ]
  },
  {
   "cell_type": "code",
   "execution_count": 28,
   "id": "d9660a1a",
   "metadata": {},
   "outputs": [],
   "source": [
    "con.commit()"
   ]
  },
  {
   "cell_type": "code",
   "execution_count": 29,
   "id": "d5f55249",
   "metadata": {},
   "outputs": [],
   "source": [
    "con.close()"
   ]
  },
  {
   "cell_type": "code",
   "execution_count": null,
   "id": "90195112",
   "metadata": {},
   "outputs": [],
   "source": []
  }
 ],
 "metadata": {
  "kernelspec": {
   "display_name": "Python 3 (ipykernel)",
   "language": "python",
   "name": "python3"
  },
  "language_info": {
   "codemirror_mode": {
    "name": "ipython",
    "version": 3
   },
   "file_extension": ".py",
   "mimetype": "text/x-python",
   "name": "python",
   "nbconvert_exporter": "python",
   "pygments_lexer": "ipython3",
   "version": "3.10.8"
  }
 },
 "nbformat": 4,
 "nbformat_minor": 5
}
